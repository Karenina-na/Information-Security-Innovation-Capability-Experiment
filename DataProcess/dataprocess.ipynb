{
 "cells": [
  {
   "cell_type": "code",
   "execution_count": 4,
   "metadata": {
    "ExecuteTime": {
     "end_time": "2024-11-26T03:07:11.270418Z",
     "start_time": "2024-11-26T03:07:11.267240Z"
    }
   },
   "outputs": [],
   "source": [
    "import pandas as pd\n",
    "import numpy as np"
   ]
  },
  {
   "cell_type": "code",
   "execution_count": 5,
   "metadata": {
    "ExecuteTime": {
     "end_time": "2024-11-26T03:07:11.825289Z",
     "start_time": "2024-11-26T03:07:11.822131Z"
    }
   },
   "outputs": [],
   "source": [
    "def mergeData():\n",
    "    monday = pd.read_csv(\n",
    "        \"../Data/MachineLearningCVE/Monday-WorkingHours.pcap_ISCX.csv\")\n",
    "\n",
    "    # 剔除第一行属性特征名称\n",
    "    monday = monday.drop([0])\n",
    "    friday1 = pd.read_csv(\n",
    "        \"../Data/MachineLearningCVE/Friday-WorkingHours-Afternoon-DDos.pcap_ISCX.csv\")\n",
    "    friday1 = friday1.drop([0])\n",
    "    friday2 = pd.read_csv(\n",
    "        \"../Data/MachineLearningCVE/Friday-WorkingHours-Afternoon-PortScan.pcap_ISCX.csv\")\n",
    "    friday2 = friday2.drop([0])\n",
    "    friday3 = pd.read_csv(\n",
    "        \"../Data/MachineLearningCVE/Friday-WorkingHours-Morning.pcap_ISCX.csv\")\n",
    "    friday3 = friday3.drop([0])\n",
    "    thursday1 = pd.read_csv(\n",
    "        \"../Data/MachineLearningCVE/Thursday-WorkingHours-Afternoon-Infilteration.pcap_ISCX.csv\")\n",
    "    thursday1 = thursday1.drop([0])\n",
    "    thursday2 = pd.read_csv(\n",
    "        \"../Data/MachineLearningCVE/Thursday-WorkingHours-Morning-WebAttacks.pcap_ISCX.csv\")\n",
    "    thursday2 = thursday2.drop([0])\n",
    "    tuesday = pd.read_csv(\n",
    "        \"../Data/MachineLearningCVE/Tuesday-WorkingHours.pcap_ISCX.csv\")\n",
    "    tuesday = tuesday.drop([0])\n",
    "    wednesday = pd.read_csv(\n",
    "        \"../Data/MachineLearningCVE/Wednesday-workingHours.pcap_ISCX.csv\")\n",
    "    wednesday = wednesday.drop([0])\n",
    "    return pd.concat([monday, friday1, friday2, friday3, thursday1, thursday2, tuesday, wednesday], axis=0)"
   ]
  },
  {
   "cell_type": "code",
   "execution_count": 6,
   "metadata": {
    "ExecuteTime": {
     "end_time": "2024-11-26T03:07:22.317725Z",
     "start_time": "2024-11-26T03:07:12.640602Z"
    }
   },
   "outputs": [
    {
     "data": {
      "text/plain": [
       "(2830735, 79)"
      ]
     },
     "execution_count": 6,
     "metadata": {},
     "output_type": "execute_result"
    }
   ],
   "source": [
    "raw_data = mergeData()\n",
    "raw_data.shape"
   ]
  },
  {
   "cell_type": "code",
   "execution_count": 7,
   "metadata": {
    "ExecuteTime": {
     "end_time": "2024-11-26T03:07:28.694808Z",
     "start_time": "2024-11-26T03:07:26.176344Z"
    }
   },
   "outputs": [
    {
     "data": {
      "text/plain": [
       "(2827868, 79)"
      ]
     },
     "execution_count": 7,
     "metadata": {},
     "output_type": "execute_result"
    }
   ],
   "source": [
    "# 去除异常值，删除所有包含NaN的行\n",
    "# 去除Infinity值\n",
    "raw_data = raw_data.replace([np.inf, -np.inf], np.nan)\n",
    "raw_data = raw_data.dropna()\n",
    "raw_data.shape"
   ]
  },
  {
   "cell_type": "markdown",
   "metadata": {},
   "source": [
    "### 去除所有异常值后的数据"
   ]
  },
  {
   "cell_type": "code",
   "execution_count": 8,
   "metadata": {
    "ExecuteTime": {
     "end_time": "2024-11-26T03:07:31.504203Z",
     "start_time": "2024-11-26T03:07:31.497442Z"
    }
   },
   "outputs": [
    {
     "name": "stdout",
     "output_type": "stream",
     "text": [
      "<class 'pandas.core.frame.DataFrame'>\n",
      "Index: 2827868 entries, 1 to 692702\n",
      "Data columns (total 79 columns):\n",
      " #   Column                        Dtype  \n",
      "---  ------                        -----  \n",
      " 0    Destination Port             int64  \n",
      " 1    Flow Duration                int64  \n",
      " 2    Total Fwd Packets            int64  \n",
      " 3    Total Backward Packets       int64  \n",
      " 4   Total Length of Fwd Packets   int64  \n",
      " 5    Total Length of Bwd Packets  int64  \n",
      " 6    Fwd Packet Length Max        int64  \n",
      " 7    Fwd Packet Length Min        int64  \n",
      " 8    Fwd Packet Length Mean       float64\n",
      " 9    Fwd Packet Length Std        float64\n",
      " 10  Bwd Packet Length Max         int64  \n",
      " 11   Bwd Packet Length Min        int64  \n",
      " 12   Bwd Packet Length Mean       float64\n",
      " 13   Bwd Packet Length Std        float64\n",
      " 14  Flow Bytes/s                  float64\n",
      " 15   Flow Packets/s               float64\n",
      " 16   Flow IAT Mean                float64\n",
      " 17   Flow IAT Std                 float64\n",
      " 18   Flow IAT Max                 int64  \n",
      " 19   Flow IAT Min                 int64  \n",
      " 20  Fwd IAT Total                 int64  \n",
      " 21   Fwd IAT Mean                 float64\n",
      " 22   Fwd IAT Std                  float64\n",
      " 23   Fwd IAT Max                  int64  \n",
      " 24   Fwd IAT Min                  int64  \n",
      " 25  Bwd IAT Total                 int64  \n",
      " 26   Bwd IAT Mean                 float64\n",
      " 27   Bwd IAT Std                  float64\n",
      " 28   Bwd IAT Max                  int64  \n",
      " 29   Bwd IAT Min                  int64  \n",
      " 30  Fwd PSH Flags                 int64  \n",
      " 31   Bwd PSH Flags                int64  \n",
      " 32   Fwd URG Flags                int64  \n",
      " 33   Bwd URG Flags                int64  \n",
      " 34   Fwd Header Length            int64  \n",
      " 35   Bwd Header Length            int64  \n",
      " 36  Fwd Packets/s                 float64\n",
      " 37   Bwd Packets/s                float64\n",
      " 38   Min Packet Length            int64  \n",
      " 39   Max Packet Length            int64  \n",
      " 40   Packet Length Mean           float64\n",
      " 41   Packet Length Std            float64\n",
      " 42   Packet Length Variance       float64\n",
      " 43  FIN Flag Count                int64  \n",
      " 44   SYN Flag Count               int64  \n",
      " 45   RST Flag Count               int64  \n",
      " 46   PSH Flag Count               int64  \n",
      " 47   ACK Flag Count               int64  \n",
      " 48   URG Flag Count               int64  \n",
      " 49   CWE Flag Count               int64  \n",
      " 50   ECE Flag Count               int64  \n",
      " 51   Down/Up Ratio                int64  \n",
      " 52   Average Packet Size          float64\n",
      " 53   Avg Fwd Segment Size         float64\n",
      " 54   Avg Bwd Segment Size         float64\n",
      " 55   Fwd Header Length.1          int64  \n",
      " 56  Fwd Avg Bytes/Bulk            int64  \n",
      " 57   Fwd Avg Packets/Bulk         int64  \n",
      " 58   Fwd Avg Bulk Rate            int64  \n",
      " 59   Bwd Avg Bytes/Bulk           int64  \n",
      " 60   Bwd Avg Packets/Bulk         int64  \n",
      " 61  Bwd Avg Bulk Rate             int64  \n",
      " 62  Subflow Fwd Packets           int64  \n",
      " 63   Subflow Fwd Bytes            int64  \n",
      " 64   Subflow Bwd Packets          int64  \n",
      " 65   Subflow Bwd Bytes            int64  \n",
      " 66  Init_Win_bytes_forward        int64  \n",
      " 67   Init_Win_bytes_backward      int64  \n",
      " 68   act_data_pkt_fwd             int64  \n",
      " 69   min_seg_size_forward         int64  \n",
      " 70  Active Mean                   float64\n",
      " 71   Active Std                   float64\n",
      " 72   Active Max                   int64  \n",
      " 73   Active Min                   int64  \n",
      " 74  Idle Mean                     float64\n",
      " 75   Idle Std                     float64\n",
      " 76   Idle Max                     int64  \n",
      " 77   Idle Min                     int64  \n",
      " 78   Label                        object \n",
      "dtypes: float64(24), int64(54), object(1)\n",
      "memory usage: 1.7+ GB\n"
     ]
    }
   ],
   "source": [
    "raw_data.info()"
   ]
  },
  {
   "cell_type": "code",
   "execution_count": 9,
   "metadata": {
    "ExecuteTime": {
     "end_time": "2024-11-26T03:07:32.313336Z",
     "start_time": "2024-11-26T03:07:32.212323Z"
    }
   },
   "outputs": [
    {
     "data": {
      "text/plain": [
       " Label\n",
       "BENIGN                        2271312\n",
       "DoS Hulk                       230124\n",
       "PortScan                       158804\n",
       "DDoS                           128025\n",
       "DoS GoldenEye                   10293\n",
       "FTP-Patator                      7935\n",
       "SSH-Patator                      5897\n",
       "DoS slowloris                    5796\n",
       "DoS Slowhttptest                 5499\n",
       "Bot                              1956\n",
       "Web Attack � Brute Force         1507\n",
       "Web Attack � XSS                  652\n",
       "Infiltration                       36\n",
       "Web Attack � Sql Injection         21\n",
       "Heartbleed                         11\n",
       "Name: count, dtype: int64"
      ]
     },
     "execution_count": 9,
     "metadata": {},
     "output_type": "execute_result"
    }
   ],
   "source": [
    "# 获取标签数据，并统计\n",
    "last_column_index = raw_data.shape[1] - 1\n",
    "label = raw_data.iloc[:, last_column_index]\n",
    "label.value_counts()"
   ]
  },
  {
   "cell_type": "markdown",
   "metadata": {},
   "source": [
    "### 整个数据集相当不平衡，正常数据非常大，而攻击流量却相当少"
   ]
  },
  {
   "cell_type": "markdown",
   "metadata": {},
   "source": [
    "### 数据重采样，使得正负样本均衡，将每个数据扩充到5000个以上\n",
    "按最后一列的值进行分组"
   ]
  },
  {
   "cell_type": "code",
   "execution_count": null,
   "metadata": {
    "ExecuteTime": {
     "end_time": "2024-11-26T03:07:35.580802Z",
     "start_time": "2024-11-26T03:07:35.486323Z"
    }
   },
   "outputs": [
    {
     "data": {
      "text/plain": [
       " Label\n",
       "BENIGN                        2271312\n",
       "Bot                              1956\n",
       "DDoS                           128025\n",
       "DoS GoldenEye                   10293\n",
       "DoS Hulk                       230124\n",
       "DoS Slowhttptest                 5499\n",
       "DoS slowloris                    5796\n",
       "FTP-Patator                      7935\n",
       "Heartbleed                         11\n",
       "Infiltration                       36\n",
       "PortScan                       158804\n",
       "SSH-Patator                      5897\n",
       "Web Attack � Brute Force         1507\n",
       "Web Attack � Sql Injection         21\n",
       "Web Attack � XSS                  652\n",
       "dtype: int64"
      ]
     },
     "execution_count": 10,
     "metadata": {},
     "output_type": "execute_result"
    }
   ],
   "source": [
    "grouped = raw_data.groupby(raw_data.iloc[:, last_column_index])\n",
    "grouped.size()"
   ]
  },
  {
   "cell_type": "code",
   "execution_count": 11,
   "metadata": {
    "ExecuteTime": {
     "end_time": "2024-11-26T03:07:36.923089Z",
     "start_time": "2024-11-26T03:07:36.287502Z"
    }
   },
   "outputs": [
    {
     "data": {
      "text/plain": [
       "((75000, 79),\n",
       "  Label\n",
       " BENIGN                        5000\n",
       " Bot                           5000\n",
       " DDoS                          5000\n",
       " DoS GoldenEye                 5000\n",
       " DoS Hulk                      5000\n",
       " DoS Slowhttptest              5000\n",
       " DoS slowloris                 5000\n",
       " FTP-Patator                   5000\n",
       " Heartbleed                    5000\n",
       " Infiltration                  5000\n",
       " PortScan                      5000\n",
       " SSH-Patator                   5000\n",
       " Web Attack � Brute Force      5000\n",
       " Web Attack � Sql Injection    5000\n",
       " Web Attack � XSS              5000\n",
       " Name: count, dtype: int64)"
      ]
     },
     "execution_count": 11,
     "metadata": {},
     "output_type": "execute_result"
    }
   ],
   "source": [
    "# 重采样\n",
    "resampled_data = grouped.apply(lambda x: x.sample(5000, replace=True))\n",
    "resampled_data = resampled_data.reset_index(drop=True)\n",
    "resampled_data.shape, resampled_data.iloc[:, last_column_index].value_counts()"
   ]
  },
  {
   "cell_type": "code",
   "execution_count": 12,
   "metadata": {
    "ExecuteTime": {
     "end_time": "2024-11-26T03:07:38.904353Z",
     "start_time": "2024-11-26T03:07:38.891739Z"
    }
   },
   "outputs": [],
   "source": [
    "data = resampled_data.iloc[:, 0:last_column_index]\n",
    "label = resampled_data.iloc[:, last_column_index]"
   ]
  },
  {
   "cell_type": "code",
   "execution_count": 13,
   "metadata": {
    "ExecuteTime": {
     "end_time": "2024-11-26T03:07:39.562980Z",
     "start_time": "2024-11-26T03:07:39.547179Z"
    }
   },
   "outputs": [
    {
     "name": "stdout",
     "output_type": "stream",
     "text": [
      "<class 'pandas.core.frame.DataFrame'>\n",
      "RangeIndex: 75000 entries, 0 to 74999\n",
      "Data columns (total 78 columns):\n",
      " #   Column                        Non-Null Count  Dtype  \n",
      "---  ------                        --------------  -----  \n",
      " 0    Destination Port             75000 non-null  int64  \n",
      " 1    Flow Duration                75000 non-null  int64  \n",
      " 2    Total Fwd Packets            75000 non-null  int64  \n",
      " 3    Total Backward Packets       75000 non-null  int64  \n",
      " 4   Total Length of Fwd Packets   75000 non-null  int64  \n",
      " 5    Total Length of Bwd Packets  75000 non-null  int64  \n",
      " 6    Fwd Packet Length Max        75000 non-null  int64  \n",
      " 7    Fwd Packet Length Min        75000 non-null  int64  \n",
      " 8    Fwd Packet Length Mean       75000 non-null  float64\n",
      " 9    Fwd Packet Length Std        75000 non-null  float64\n",
      " 10  Bwd Packet Length Max         75000 non-null  int64  \n",
      " 11   Bwd Packet Length Min        75000 non-null  int64  \n",
      " 12   Bwd Packet Length Mean       75000 non-null  float64\n",
      " 13   Bwd Packet Length Std        75000 non-null  float64\n",
      " 14  Flow Bytes/s                  75000 non-null  float64\n",
      " 15   Flow Packets/s               75000 non-null  float64\n",
      " 16   Flow IAT Mean                75000 non-null  float64\n",
      " 17   Flow IAT Std                 75000 non-null  float64\n",
      " 18   Flow IAT Max                 75000 non-null  int64  \n",
      " 19   Flow IAT Min                 75000 non-null  int64  \n",
      " 20  Fwd IAT Total                 75000 non-null  int64  \n",
      " 21   Fwd IAT Mean                 75000 non-null  float64\n",
      " 22   Fwd IAT Std                  75000 non-null  float64\n",
      " 23   Fwd IAT Max                  75000 non-null  int64  \n",
      " 24   Fwd IAT Min                  75000 non-null  int64  \n",
      " 25  Bwd IAT Total                 75000 non-null  int64  \n",
      " 26   Bwd IAT Mean                 75000 non-null  float64\n",
      " 27   Bwd IAT Std                  75000 non-null  float64\n",
      " 28   Bwd IAT Max                  75000 non-null  int64  \n",
      " 29   Bwd IAT Min                  75000 non-null  int64  \n",
      " 30  Fwd PSH Flags                 75000 non-null  int64  \n",
      " 31   Bwd PSH Flags                75000 non-null  int64  \n",
      " 32   Fwd URG Flags                75000 non-null  int64  \n",
      " 33   Bwd URG Flags                75000 non-null  int64  \n",
      " 34   Fwd Header Length            75000 non-null  int64  \n",
      " 35   Bwd Header Length            75000 non-null  int64  \n",
      " 36  Fwd Packets/s                 75000 non-null  float64\n",
      " 37   Bwd Packets/s                75000 non-null  float64\n",
      " 38   Min Packet Length            75000 non-null  int64  \n",
      " 39   Max Packet Length            75000 non-null  int64  \n",
      " 40   Packet Length Mean           75000 non-null  float64\n",
      " 41   Packet Length Std            75000 non-null  float64\n",
      " 42   Packet Length Variance       75000 non-null  float64\n",
      " 43  FIN Flag Count                75000 non-null  int64  \n",
      " 44   SYN Flag Count               75000 non-null  int64  \n",
      " 45   RST Flag Count               75000 non-null  int64  \n",
      " 46   PSH Flag Count               75000 non-null  int64  \n",
      " 47   ACK Flag Count               75000 non-null  int64  \n",
      " 48   URG Flag Count               75000 non-null  int64  \n",
      " 49   CWE Flag Count               75000 non-null  int64  \n",
      " 50   ECE Flag Count               75000 non-null  int64  \n",
      " 51   Down/Up Ratio                75000 non-null  int64  \n",
      " 52   Average Packet Size          75000 non-null  float64\n",
      " 53   Avg Fwd Segment Size         75000 non-null  float64\n",
      " 54   Avg Bwd Segment Size         75000 non-null  float64\n",
      " 55   Fwd Header Length.1          75000 non-null  int64  \n",
      " 56  Fwd Avg Bytes/Bulk            75000 non-null  int64  \n",
      " 57   Fwd Avg Packets/Bulk         75000 non-null  int64  \n",
      " 58   Fwd Avg Bulk Rate            75000 non-null  int64  \n",
      " 59   Bwd Avg Bytes/Bulk           75000 non-null  int64  \n",
      " 60   Bwd Avg Packets/Bulk         75000 non-null  int64  \n",
      " 61  Bwd Avg Bulk Rate             75000 non-null  int64  \n",
      " 62  Subflow Fwd Packets           75000 non-null  int64  \n",
      " 63   Subflow Fwd Bytes            75000 non-null  int64  \n",
      " 64   Subflow Bwd Packets          75000 non-null  int64  \n",
      " 65   Subflow Bwd Bytes            75000 non-null  int64  \n",
      " 66  Init_Win_bytes_forward        75000 non-null  int64  \n",
      " 67   Init_Win_bytes_backward      75000 non-null  int64  \n",
      " 68   act_data_pkt_fwd             75000 non-null  int64  \n",
      " 69   min_seg_size_forward         75000 non-null  int64  \n",
      " 70  Active Mean                   75000 non-null  float64\n",
      " 71   Active Std                   75000 non-null  float64\n",
      " 72   Active Max                   75000 non-null  int64  \n",
      " 73   Active Min                   75000 non-null  int64  \n",
      " 74  Idle Mean                     75000 non-null  float64\n",
      " 75   Idle Std                     75000 non-null  float64\n",
      " 76   Idle Max                     75000 non-null  int64  \n",
      " 77   Idle Min                     75000 non-null  int64  \n",
      "dtypes: float64(24), int64(54)\n",
      "memory usage: 44.6 MB\n"
     ]
    },
    {
     "data": {
      "text/plain": [
       "(None,\n",
       "  Label\n",
       " BENIGN                        5000\n",
       " Bot                           5000\n",
       " DDoS                          5000\n",
       " DoS GoldenEye                 5000\n",
       " DoS Hulk                      5000\n",
       " DoS Slowhttptest              5000\n",
       " DoS slowloris                 5000\n",
       " FTP-Patator                   5000\n",
       " Heartbleed                    5000\n",
       " Infiltration                  5000\n",
       " PortScan                      5000\n",
       " SSH-Patator                   5000\n",
       " Web Attack � Brute Force      5000\n",
       " Web Attack � Sql Injection    5000\n",
       " Web Attack � XSS              5000\n",
       " Name: count, dtype: int64)"
      ]
     },
     "execution_count": 13,
     "metadata": {},
     "output_type": "execute_result"
    }
   ],
   "source": [
    "data.info(), label.value_counts()"
   ]
  },
  {
   "cell_type": "code",
   "execution_count": 14,
   "metadata": {
    "ExecuteTime": {
     "end_time": "2024-11-26T03:07:40.395420Z",
     "start_time": "2024-11-26T03:07:40.387148Z"
    }
   },
   "outputs": [
    {
     "data": {
      "text/plain": [
       "(array([ 0,  0,  0, ..., 14, 14, 14], dtype=int64),\n",
       " Index(['BENIGN', 'Bot', 'DDoS', 'DoS GoldenEye', 'DoS Hulk',\n",
       "        'DoS Slowhttptest', 'DoS slowloris', 'FTP-Patator', 'Heartbleed',\n",
       "        'Infiltration', 'PortScan', 'SSH-Patator', 'Web Attack � Brute Force',\n",
       "        'Web Attack � Sql Injection', 'Web Attack � XSS'],\n",
       "       dtype='object'))"
      ]
     },
     "execution_count": 14,
     "metadata": {},
     "output_type": "execute_result"
    }
   ],
   "source": [
    "# 标签化\n",
    "labels_encoded, uniques = pd.factorize(label)\n",
    "labels_encoded, uniques"
   ]
  },
  {
   "cell_type": "code",
   "execution_count": 15,
   "metadata": {
    "ExecuteTime": {
     "end_time": "2024-11-26T03:07:41.226327Z",
     "start_time": "2024-11-26T03:07:41.222846Z"
    }
   },
   "outputs": [],
   "source": [
    "import os\n",
    "\n",
    "labels_encoded = pd.DataFrame(labels_encoded)\n",
    "unique = pd.Series(uniques)"
   ]
  },
  {
   "cell_type": "code",
   "execution_count": 17,
   "metadata": {
    "ExecuteTime": {
     "end_time": "2024-11-26T03:08:21.973430Z",
     "start_time": "2024-11-26T03:08:20.947638Z"
    }
   },
   "outputs": [],
   "source": [
    "if not os.path.exists(\"../Data/processed_data\"):\n",
    "    os.mkdir(\"../Data/processed_data\")\n",
    "data.to_csv(\"../Data/processed_data/data.csv\", index=False)\n",
    "labels_encoded.to_csv(\"../Data/processed_data/labels.csv\", index=False)"
   ]
  },
  {
   "cell_type": "code",
   "execution_count": 18,
   "metadata": {
    "ExecuteTime": {
     "end_time": "2024-11-26T03:08:23.461689Z",
     "start_time": "2024-11-26T03:08:23.458396Z"
    }
   },
   "outputs": [],
   "source": [
    "# 以字典形式保存标签\n",
    "import json\n",
    "with open(\"../Data/processed_data/unique.json\", \"w\") as f:\n",
    "    result = {\n",
    "        x : y for x, y in zip(range(len(unique)), unique)\n",
    "    }\n",
    "    json.dump(result, f)"
   ]
  },
  {
   "cell_type": "code",
   "execution_count": null,
   "metadata": {},
   "outputs": [],
   "source": []
  }
 ],
 "metadata": {
  "kernelspec": {
   "display_name": "test",
   "language": "python",
   "name": "python3"
  },
  "language_info": {
   "codemirror_mode": {
    "name": "ipython",
    "version": 3
   },
   "file_extension": ".py",
   "mimetype": "text/x-python",
   "name": "python",
   "nbconvert_exporter": "python",
   "pygments_lexer": "ipython3",
   "version": "3.12.4"
  }
 },
 "nbformat": 4,
 "nbformat_minor": 2
}
